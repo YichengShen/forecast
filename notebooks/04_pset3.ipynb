{
 "cells": [
  {
   "cell_type": "markdown",
   "metadata": {},
   "source": [
    "# Pset3\n",
    "\n",
    "> Multiple Regression"
   ]
  },
  {
   "cell_type": "code",
   "execution_count": 1,
   "metadata": {},
   "outputs": [],
   "source": [
    "#hide\n",
    "from nbdev.showdoc import *"
   ]
  },
  {
   "cell_type": "code",
   "execution_count": 2,
   "metadata": {},
   "outputs": [],
   "source": [
    "import statsmodels.api as sm\n",
    "import datetime\n",
    "import pandas as pd\n",
    "import numpy as np\n",
    "import matplotlib.pyplot as plt\n",
    "from scipy import stats"
   ]
  },
  {
   "cell_type": "markdown",
   "metadata": {},
   "source": [
    "Load Data\n",
    "\n",
    "Shanghai Car License Plate Auction Price\n",
    "https://www.kaggle.com/bogof666/shanghai-car-license-plate-auction-price"
   ]
  },
  {
   "cell_type": "code",
   "execution_count": 3,
   "metadata": {
    "scrolled": false
   },
   "outputs": [
    {
     "name": "stdout",
     "output_type": "stream",
     "text": [
      "       Date  Total number of license issued  lowest price   avg price  \\\n",
      "0    Jan-02                            1400          13600      14735   \n",
      "1    Feb-02                            1800          13100      14057   \n",
      "2    Mar-02                            2000          14300      14662   \n",
      "3    Apr-02                            2300          16000      16334   \n",
      "4    May-02                            2350          17800      18357   \n",
      "..      ...                             ...            ...        ...   \n",
      "199  Sep-18                           12712          87300      87410   \n",
      "200  Oct-18                           10728          88000      88070   \n",
      "201  Nov-18                           11766          87300      87374   \n",
      "202  Dec-18                           12850          87400      87508   \n",
      "203  Jan-19                           12832          89500      89565   \n",
      "\n",
      "     Total number of applicants  \n",
      "0                          3718  \n",
      "1                          4590  \n",
      "2                          5190  \n",
      "3                          4806  \n",
      "4                          4665  \n",
      "..                          ...  \n",
      "199                      189142  \n",
      "200                      181861  \n",
      "201                      177355  \n",
      "202                      165442  \n",
      "203                      168614  \n",
      "\n",
      "[204 rows x 5 columns]\n"
     ]
    }
   ],
   "source": [
    "df = pd.read_csv(\"../data/midterm/shanghai_license_plate.csv\")\n",
    "print(df)"
   ]
  },
  {
   "cell_type": "markdown",
   "metadata": {},
   "source": [
    "Change the first column into datetime objects"
   ]
  },
  {
   "cell_type": "code",
   "execution_count": 4,
   "metadata": {},
   "outputs": [],
   "source": [
    "for i, date_str in enumerate(df.iloc[:, 0]):\n",
    "    df.iloc[i, 0] = datetime.datetime.strptime(date_str, \"%b-%y\")"
   ]
  },
  {
   "cell_type": "code",
   "execution_count": 5,
   "metadata": {},
   "outputs": [],
   "source": [
    "df[\"Squared Total number of license issued\"] = df[\"Total number of license issued\"] ** 2\n",
    "df[\"Squared Total number of applicants\"] = df[\"Total number of applicants\"] ** 2"
   ]
  },
  {
   "cell_type": "markdown",
   "metadata": {},
   "source": [
    "# Question 1\n",
    "Give a brief background of the problem and how do you EXPECT the independent variables to affect the dependent one."
   ]
  },
  {
   "cell_type": "markdown",
   "metadata": {},
   "source": [
    "Shanghai car license plates are probabaly \"the world's most expensive pieces of metal\". People have to participate in auctions to purchase car license plates. The reason behind the auction is to limit the number of fossil-fueled cars.\n",
    "\n",
    "In this dataset, data related to auctions between January 2002 and January 2019 are recorded. The shape of the data set is 204 rows and 5 columns. The columns include date, total number of license issued, lowest price, average price, and total number of applicants.\n",
    "\n",
    "My initial guess is that the total number of license issued and the total number of applicants will affect price. The total number of license issued is similar to the supply of license plates while the total number of applicants is like the demand from people."
   ]
  },
  {
   "cell_type": "markdown",
   "metadata": {},
   "source": [
    "# Question 2\n",
    "Show results of three different models and discuss which one is the best and why.  You are welcome to use statistical tests for issues such as heteroskedasticity, but you do not have to.  However, you should take a look at the residuals."
   ]
  },
  {
   "cell_type": "markdown",
   "metadata": {},
   "source": [
    "## Model 1"
   ]
  },
  {
   "cell_type": "code",
   "execution_count": 6,
   "metadata": {},
   "outputs": [
    {
     "data": {
      "text/html": [
       "<table class=\"simpletable\">\n",
       "<caption>OLS Regression Results</caption>\n",
       "<tr>\n",
       "  <th>Dep. Variable:</th>        <td>avg price</td>    <th>  R-squared:         </th> <td>   0.743</td>\n",
       "</tr>\n",
       "<tr>\n",
       "  <th>Model:</th>                   <td>OLS</td>       <th>  Adj. R-squared:    </th> <td>   0.741</td>\n",
       "</tr>\n",
       "<tr>\n",
       "  <th>Method:</th>             <td>Least Squares</td>  <th>  F-statistic:       </th> <td>   290.9</td>\n",
       "</tr>\n",
       "<tr>\n",
       "  <th>Date:</th>             <td>Sun, 04 Apr 2021</td> <th>  Prob (F-statistic):</th> <td>4.58e-60</td>\n",
       "</tr>\n",
       "<tr>\n",
       "  <th>Time:</th>                 <td>11:42:14</td>     <th>  Log-Likelihood:    </th> <td> -2205.9</td>\n",
       "</tr>\n",
       "<tr>\n",
       "  <th>No. Observations:</th>      <td>   204</td>      <th>  AIC:               </th> <td>   4418.</td>\n",
       "</tr>\n",
       "<tr>\n",
       "  <th>Df Residuals:</th>          <td>   201</td>      <th>  BIC:               </th> <td>   4428.</td>\n",
       "</tr>\n",
       "<tr>\n",
       "  <th>Df Model:</th>              <td>     2</td>      <th>                     </th>     <td> </td>   \n",
       "</tr>\n",
       "<tr>\n",
       "  <th>Covariance Type:</th>      <td>nonrobust</td>    <th>                     </th>     <td> </td>   \n",
       "</tr>\n",
       "</table>\n",
       "<table class=\"simpletable\">\n",
       "<tr>\n",
       "                 <td></td>                   <th>coef</th>     <th>std err</th>      <th>t</th>      <th>P>|t|</th>  <th>[0.025</th>    <th>0.975]</th>  \n",
       "</tr>\n",
       "<tr>\n",
       "  <th>const</th>                          <td> 1.851e+04</td> <td> 2899.883</td> <td>    6.383</td> <td> 0.000</td> <td> 1.28e+04</td> <td> 2.42e+04</td>\n",
       "</tr>\n",
       "<tr>\n",
       "  <th>Total number of license issued</th> <td>    3.2679</td> <td>    0.427</td> <td>    7.651</td> <td> 0.000</td> <td>    2.426</td> <td>    4.110</td>\n",
       "</tr>\n",
       "<tr>\n",
       "  <th>Total number of applicants</th>     <td>    0.1632</td> <td>    0.013</td> <td>   12.433</td> <td> 0.000</td> <td>    0.137</td> <td>    0.189</td>\n",
       "</tr>\n",
       "</table>\n",
       "<table class=\"simpletable\">\n",
       "<tr>\n",
       "  <th>Omnibus:</th>       <td>10.246</td> <th>  Durbin-Watson:     </th> <td>   0.355</td>\n",
       "</tr>\n",
       "<tr>\n",
       "  <th>Prob(Omnibus):</th> <td> 0.006</td> <th>  Jarque-Bera (JB):  </th> <td>  21.116</td>\n",
       "</tr>\n",
       "<tr>\n",
       "  <th>Skew:</th>          <td> 0.117</td> <th>  Prob(JB):          </th> <td>2.60e-05</td>\n",
       "</tr>\n",
       "<tr>\n",
       "  <th>Kurtosis:</th>      <td> 4.559</td> <th>  Cond. No.          </th> <td>3.70e+05</td>\n",
       "</tr>\n",
       "</table><br/><br/>Notes:<br/>[1] Standard Errors assume that the covariance matrix of the errors is correctly specified.<br/>[2] The condition number is large, 3.7e+05. This might indicate that there are<br/>strong multicollinearity or other numerical problems."
      ],
      "text/plain": [
       "<class 'statsmodels.iolib.summary.Summary'>\n",
       "\"\"\"\n",
       "                            OLS Regression Results                            \n",
       "==============================================================================\n",
       "Dep. Variable:              avg price   R-squared:                       0.743\n",
       "Model:                            OLS   Adj. R-squared:                  0.741\n",
       "Method:                 Least Squares   F-statistic:                     290.9\n",
       "Date:                Sun, 04 Apr 2021   Prob (F-statistic):           4.58e-60\n",
       "Time:                        11:42:14   Log-Likelihood:                -2205.9\n",
       "No. Observations:                 204   AIC:                             4418.\n",
       "Df Residuals:                     201   BIC:                             4428.\n",
       "Df Model:                           2                                         \n",
       "Covariance Type:            nonrobust                                         \n",
       "==================================================================================================\n",
       "                                     coef    std err          t      P>|t|      [0.025      0.975]\n",
       "--------------------------------------------------------------------------------------------------\n",
       "const                           1.851e+04   2899.883      6.383      0.000    1.28e+04    2.42e+04\n",
       "Total number of license issued     3.2679      0.427      7.651      0.000       2.426       4.110\n",
       "Total number of applicants         0.1632      0.013     12.433      0.000       0.137       0.189\n",
       "==============================================================================\n",
       "Omnibus:                       10.246   Durbin-Watson:                   0.355\n",
       "Prob(Omnibus):                  0.006   Jarque-Bera (JB):               21.116\n",
       "Skew:                           0.117   Prob(JB):                     2.60e-05\n",
       "Kurtosis:                       4.559   Cond. No.                     3.70e+05\n",
       "==============================================================================\n",
       "\n",
       "Notes:\n",
       "[1] Standard Errors assume that the covariance matrix of the errors is correctly specified.\n",
       "[2] The condition number is large, 3.7e+05. This might indicate that there are\n",
       "strong multicollinearity or other numerical problems.\n",
       "\"\"\""
      ]
     },
     "execution_count": 6,
     "metadata": {},
     "output_type": "execute_result"
    }
   ],
   "source": [
    "X = df[[\"Total number of license issued\", \"Total number of applicants\"]]\n",
    "y = df[\"avg price\"]\n",
    "X = sm.add_constant(X)\n",
    "\n",
    "model1 = sm.OLS(y, X).fit()\n",
    "model1.summary()"
   ]
  },
  {
   "cell_type": "markdown",
   "metadata": {},
   "source": [
    "Residual Test"
   ]
  },
  {
   "cell_type": "code",
   "execution_count": 7,
   "metadata": {},
   "outputs": [
    {
     "name": "stdout",
     "output_type": "stream",
     "text": [
      "JB: 21.11617148644472, p-value: 2.59825410591219e-05\n"
     ]
    }
   ],
   "source": [
    "test = stats.jarque_bera(model1.resid)\n",
    "print(f\"JB: {test[0]}, p-value: {test[1]}\")"
   ]
  },
  {
   "cell_type": "markdown",
   "metadata": {},
   "source": [
    "## Model 2"
   ]
  },
  {
   "cell_type": "code",
   "execution_count": 8,
   "metadata": {},
   "outputs": [
    {
     "data": {
      "text/html": [
       "<table class=\"simpletable\">\n",
       "<caption>OLS Regression Results</caption>\n",
       "<tr>\n",
       "  <th>Dep. Variable:</th>        <td>avg price</td>    <th>  R-squared:         </th> <td>   0.773</td>\n",
       "</tr>\n",
       "<tr>\n",
       "  <th>Model:</th>                   <td>OLS</td>       <th>  Adj. R-squared:    </th> <td>   0.770</td>\n",
       "</tr>\n",
       "<tr>\n",
       "  <th>Method:</th>             <td>Least Squares</td>  <th>  F-statistic:       </th> <td>   227.2</td>\n",
       "</tr>\n",
       "<tr>\n",
       "  <th>Date:</th>             <td>Sun, 04 Apr 2021</td> <th>  Prob (F-statistic):</th> <td>3.79e-64</td>\n",
       "</tr>\n",
       "<tr>\n",
       "  <th>Time:</th>                 <td>11:42:14</td>     <th>  Log-Likelihood:    </th> <td> -2193.2</td>\n",
       "</tr>\n",
       "<tr>\n",
       "  <th>No. Observations:</th>      <td>   204</td>      <th>  AIC:               </th> <td>   4394.</td>\n",
       "</tr>\n",
       "<tr>\n",
       "  <th>Df Residuals:</th>          <td>   200</td>      <th>  BIC:               </th> <td>   4408.</td>\n",
       "</tr>\n",
       "<tr>\n",
       "  <th>Df Model:</th>              <td>     3</td>      <th>                     </th>     <td> </td>   \n",
       "</tr>\n",
       "<tr>\n",
       "  <th>Covariance Type:</th>      <td>nonrobust</td>    <th>                     </th>     <td> </td>   \n",
       "</tr>\n",
       "</table>\n",
       "<table class=\"simpletable\">\n",
       "<tr>\n",
       "                     <td></td>                       <th>coef</th>     <th>std err</th>      <th>t</th>      <th>P>|t|</th>  <th>[0.025</th>    <th>0.975]</th>  \n",
       "</tr>\n",
       "<tr>\n",
       "  <th>const</th>                                  <td>-3562.3588</td> <td> 5094.651</td> <td>   -0.699</td> <td> 0.485</td> <td>-1.36e+04</td> <td> 6483.765</td>\n",
       "</tr>\n",
       "<tr>\n",
       "  <th>Total number of license issued</th>         <td>    9.9073</td> <td>    1.355</td> <td>    7.314</td> <td> 0.000</td> <td>    7.236</td> <td>   12.578</td>\n",
       "</tr>\n",
       "<tr>\n",
       "  <th>Squared Total number of license issued</th> <td>   -0.0005</td> <td> 8.89e-05</td> <td>   -5.133</td> <td> 0.000</td> <td>   -0.001</td> <td>   -0.000</td>\n",
       "</tr>\n",
       "<tr>\n",
       "  <th>Total number of applicants</th>             <td>    0.1796</td> <td>    0.013</td> <td>   14.057</td> <td> 0.000</td> <td>    0.154</td> <td>    0.205</td>\n",
       "</tr>\n",
       "</table>\n",
       "<table class=\"simpletable\">\n",
       "<tr>\n",
       "  <th>Omnibus:</th>       <td> 6.797</td> <th>  Durbin-Watson:     </th> <td>   0.264</td>\n",
       "</tr>\n",
       "<tr>\n",
       "  <th>Prob(Omnibus):</th> <td> 0.033</td> <th>  Jarque-Bera (JB):  </th> <td>   7.834</td>\n",
       "</tr>\n",
       "<tr>\n",
       "  <th>Skew:</th>          <td> 0.277</td> <th>  Prob(JB):          </th> <td>  0.0199</td>\n",
       "</tr>\n",
       "<tr>\n",
       "  <th>Kurtosis:</th>      <td> 3.784</td> <th>  Cond. No.          </th> <td>4.91e+08</td>\n",
       "</tr>\n",
       "</table><br/><br/>Notes:<br/>[1] Standard Errors assume that the covariance matrix of the errors is correctly specified.<br/>[2] The condition number is large, 4.91e+08. This might indicate that there are<br/>strong multicollinearity or other numerical problems."
      ],
      "text/plain": [
       "<class 'statsmodels.iolib.summary.Summary'>\n",
       "\"\"\"\n",
       "                            OLS Regression Results                            \n",
       "==============================================================================\n",
       "Dep. Variable:              avg price   R-squared:                       0.773\n",
       "Model:                            OLS   Adj. R-squared:                  0.770\n",
       "Method:                 Least Squares   F-statistic:                     227.2\n",
       "Date:                Sun, 04 Apr 2021   Prob (F-statistic):           3.79e-64\n",
       "Time:                        11:42:14   Log-Likelihood:                -2193.2\n",
       "No. Observations:                 204   AIC:                             4394.\n",
       "Df Residuals:                     200   BIC:                             4408.\n",
       "Df Model:                           3                                         \n",
       "Covariance Type:            nonrobust                                         \n",
       "==========================================================================================================\n",
       "                                             coef    std err          t      P>|t|      [0.025      0.975]\n",
       "----------------------------------------------------------------------------------------------------------\n",
       "const                                  -3562.3588   5094.651     -0.699      0.485   -1.36e+04    6483.765\n",
       "Total number of license issued             9.9073      1.355      7.314      0.000       7.236      12.578\n",
       "Squared Total number of license issued    -0.0005   8.89e-05     -5.133      0.000      -0.001      -0.000\n",
       "Total number of applicants                 0.1796      0.013     14.057      0.000       0.154       0.205\n",
       "==============================================================================\n",
       "Omnibus:                        6.797   Durbin-Watson:                   0.264\n",
       "Prob(Omnibus):                  0.033   Jarque-Bera (JB):                7.834\n",
       "Skew:                           0.277   Prob(JB):                       0.0199\n",
       "Kurtosis:                       3.784   Cond. No.                     4.91e+08\n",
       "==============================================================================\n",
       "\n",
       "Notes:\n",
       "[1] Standard Errors assume that the covariance matrix of the errors is correctly specified.\n",
       "[2] The condition number is large, 4.91e+08. This might indicate that there are\n",
       "strong multicollinearity or other numerical problems.\n",
       "\"\"\""
      ]
     },
     "execution_count": 8,
     "metadata": {},
     "output_type": "execute_result"
    }
   ],
   "source": [
    "X = df[[\"Total number of license issued\", \"Squared Total number of license issued\", \"Total number of applicants\"]]\n",
    "y = df[\"avg price\"]\n",
    "X = sm.add_constant(X)\n",
    "\n",
    "model2 = sm.OLS(y, X).fit()\n",
    "model2.summary()"
   ]
  },
  {
   "cell_type": "markdown",
   "metadata": {},
   "source": [
    "Residual Test"
   ]
  },
  {
   "cell_type": "code",
   "execution_count": 9,
   "metadata": {},
   "outputs": [
    {
     "name": "stdout",
     "output_type": "stream",
     "text": [
      "JB: 7.833916858325952, p-value: 0.019901534709141577\n"
     ]
    }
   ],
   "source": [
    "test = stats.jarque_bera(model2.resid)\n",
    "print(f\"JB: {test[0]}, p-value: {test[1]}\")"
   ]
  },
  {
   "cell_type": "markdown",
   "metadata": {},
   "source": [
    "## Model 3"
   ]
  },
  {
   "cell_type": "code",
   "execution_count": 10,
   "metadata": {},
   "outputs": [
    {
     "data": {
      "text/html": [
       "<table class=\"simpletable\">\n",
       "<caption>OLS Regression Results</caption>\n",
       "<tr>\n",
       "  <th>Dep. Variable:</th>        <td>avg price</td>    <th>  R-squared:         </th> <td>   0.786</td>\n",
       "</tr>\n",
       "<tr>\n",
       "  <th>Model:</th>                   <td>OLS</td>       <th>  Adj. R-squared:    </th> <td>   0.782</td>\n",
       "</tr>\n",
       "<tr>\n",
       "  <th>Method:</th>             <td>Least Squares</td>  <th>  F-statistic:       </th> <td>   244.3</td>\n",
       "</tr>\n",
       "<tr>\n",
       "  <th>Date:</th>             <td>Sun, 04 Apr 2021</td> <th>  Prob (F-statistic):</th> <td>1.32e-66</td>\n",
       "</tr>\n",
       "<tr>\n",
       "  <th>Time:</th>                 <td>11:42:14</td>     <th>  Log-Likelihood:    </th> <td> -2187.4</td>\n",
       "</tr>\n",
       "<tr>\n",
       "  <th>No. Observations:</th>      <td>   204</td>      <th>  AIC:               </th> <td>   4383.</td>\n",
       "</tr>\n",
       "<tr>\n",
       "  <th>Df Residuals:</th>          <td>   200</td>      <th>  BIC:               </th> <td>   4396.</td>\n",
       "</tr>\n",
       "<tr>\n",
       "  <th>Df Model:</th>              <td>     3</td>      <th>                     </th>     <td> </td>   \n",
       "</tr>\n",
       "<tr>\n",
       "  <th>Covariance Type:</th>      <td>nonrobust</td>    <th>                     </th>     <td> </td>   \n",
       "</tr>\n",
       "</table>\n",
       "<table class=\"simpletable\">\n",
       "<tr>\n",
       "                   <td></td>                     <th>coef</th>     <th>std err</th>      <th>t</th>      <th>P>|t|</th>  <th>[0.025</th>    <th>0.975]</th>  \n",
       "</tr>\n",
       "<tr>\n",
       "  <th>const</th>                              <td> 1.557e+04</td> <td> 2697.186</td> <td>    5.772</td> <td> 0.000</td> <td> 1.02e+04</td> <td> 2.09e+04</td>\n",
       "</tr>\n",
       "<tr>\n",
       "  <th>Total number of license issued</th>     <td>    2.9983</td> <td>    0.394</td> <td>    7.618</td> <td> 0.000</td> <td>    2.222</td> <td>    3.774</td>\n",
       "</tr>\n",
       "<tr>\n",
       "  <th>Total number of applicants</th>         <td>    0.4310</td> <td>    0.044</td> <td>    9.742</td> <td> 0.000</td> <td>    0.344</td> <td>    0.518</td>\n",
       "</tr>\n",
       "<tr>\n",
       "  <th>Squared Total number of applicants</th> <td>-1.104e-06</td> <td> 1.76e-07</td> <td>   -6.289</td> <td> 0.000</td> <td>-1.45e-06</td> <td>-7.58e-07</td>\n",
       "</tr>\n",
       "</table>\n",
       "<table class=\"simpletable\">\n",
       "<tr>\n",
       "  <th>Omnibus:</th>       <td>18.955</td> <th>  Durbin-Watson:     </th> <td>   0.455</td>\n",
       "</tr>\n",
       "<tr>\n",
       "  <th>Prob(Omnibus):</th> <td> 0.000</td> <th>  Jarque-Bera (JB):  </th> <td>  71.836</td>\n",
       "</tr>\n",
       "<tr>\n",
       "  <th>Skew:</th>          <td>-0.033</td> <th>  Prob(JB):          </th> <td>2.52e-16</td>\n",
       "</tr>\n",
       "<tr>\n",
       "  <th>Kurtosis:</th>      <td> 5.906</td> <th>  Cond. No.          </th> <td>8.24e+10</td>\n",
       "</tr>\n",
       "</table><br/><br/>Notes:<br/>[1] Standard Errors assume that the covariance matrix of the errors is correctly specified.<br/>[2] The condition number is large, 8.24e+10. This might indicate that there are<br/>strong multicollinearity or other numerical problems."
      ],
      "text/plain": [
       "<class 'statsmodels.iolib.summary.Summary'>\n",
       "\"\"\"\n",
       "                            OLS Regression Results                            \n",
       "==============================================================================\n",
       "Dep. Variable:              avg price   R-squared:                       0.786\n",
       "Model:                            OLS   Adj. R-squared:                  0.782\n",
       "Method:                 Least Squares   F-statistic:                     244.3\n",
       "Date:                Sun, 04 Apr 2021   Prob (F-statistic):           1.32e-66\n",
       "Time:                        11:42:14   Log-Likelihood:                -2187.4\n",
       "No. Observations:                 204   AIC:                             4383.\n",
       "Df Residuals:                     200   BIC:                             4396.\n",
       "Df Model:                           3                                         \n",
       "Covariance Type:            nonrobust                                         \n",
       "======================================================================================================\n",
       "                                         coef    std err          t      P>|t|      [0.025      0.975]\n",
       "------------------------------------------------------------------------------------------------------\n",
       "const                               1.557e+04   2697.186      5.772      0.000    1.02e+04    2.09e+04\n",
       "Total number of license issued         2.9983      0.394      7.618      0.000       2.222       3.774\n",
       "Total number of applicants             0.4310      0.044      9.742      0.000       0.344       0.518\n",
       "Squared Total number of applicants -1.104e-06   1.76e-07     -6.289      0.000   -1.45e-06   -7.58e-07\n",
       "==============================================================================\n",
       "Omnibus:                       18.955   Durbin-Watson:                   0.455\n",
       "Prob(Omnibus):                  0.000   Jarque-Bera (JB):               71.836\n",
       "Skew:                          -0.033   Prob(JB):                     2.52e-16\n",
       "Kurtosis:                       5.906   Cond. No.                     8.24e+10\n",
       "==============================================================================\n",
       "\n",
       "Notes:\n",
       "[1] Standard Errors assume that the covariance matrix of the errors is correctly specified.\n",
       "[2] The condition number is large, 8.24e+10. This might indicate that there are\n",
       "strong multicollinearity or other numerical problems.\n",
       "\"\"\""
      ]
     },
     "execution_count": 10,
     "metadata": {},
     "output_type": "execute_result"
    }
   ],
   "source": [
    "X = df[[\"Total number of license issued\", \"Total number of applicants\", \"Squared Total number of applicants\"]]\n",
    "y = df[\"avg price\"]\n",
    "X = sm.add_constant(X)\n",
    "\n",
    "model3 = sm.OLS(y, X).fit()\n",
    "model3.summary()"
   ]
  },
  {
   "cell_type": "markdown",
   "metadata": {},
   "source": [
    "Residual Test"
   ]
  },
  {
   "cell_type": "code",
   "execution_count": 11,
   "metadata": {},
   "outputs": [
    {
     "name": "stdout",
     "output_type": "stream",
     "text": [
      "JB: 71.83633477922191, p-value: 2.220446049250313e-16\n"
     ]
    }
   ],
   "source": [
    "test = stats.jarque_bera(model3.resid)\n",
    "print(f\"JB: {test[0]}, p-value: {test[1]}\")"
   ]
  },
  {
   "cell_type": "markdown",
   "metadata": {},
   "source": [
    "Model 1 is the best model among these three models. According to the summary printed below the model, the results are statistically significant. Model 1 is the best model since it does not square its varaibles, but it captures the change in the dependent variable. In contrast, model 2 and 3 are fitting polynomials. Therefore, I think model 1 fits well without increasing complexity."
   ]
  },
  {
   "cell_type": "markdown",
   "metadata": {},
   "source": [
    "# Question 3\n",
    "Which variables are statistically significant and are the signs as you expected?"
   ]
  },
  {
   "cell_type": "markdown",
   "metadata": {},
   "source": [
    "Both total number of applicants and total number of license plates issued are statistically significant. However, the sign for the total number of license plates issued does not match with my expectation. From the results, there is a positive relation between them. This is potentally caused by the a faster increase of the demand than the increase of the supply."
   ]
  },
  {
   "cell_type": "markdown",
   "metadata": {},
   "source": [
    "# Question 4\n",
    "What problems do you think might be present in the model and why (very speculative at this point)?"
   ]
  },
  {
   "cell_type": "markdown",
   "metadata": {},
   "source": [
    "One major problem is that the total number of licence plates issued is tightly related to government regulations. The policies are made to control the demand in the market, so it does not fulfill the actual demand of consumers. I think this would lead to problems in creating a good model because a sudden increase or decrease caused by regulations can hardly be captured by the model."
   ]
  },
  {
   "cell_type": "markdown",
   "metadata": {},
   "source": [
    "# Question 5\n",
    "What could be some additional variables that should be included that you could not find?  If it is not obvious, how would you measure them if at all?"
   ]
  },
  {
   "cell_type": "markdown",
   "metadata": {},
   "source": [
    "I would include the population of people who need to drive to go to work, but this data is not available to us. This additional variable can potentially be a better measure of demand than the total number of applicants. People might give up their chances to apply for a license plate for various reason, but the demand for license plates is still high. Therefore, the new variable can better show this effect. \n",
    "\n",
    "Furthermore, it would be interesting to add data about the usage of public transportation. Since more and more ways of public transportations are introduced almost every year in Shanghai, we can attempt to see if a model can capture such increase in public transportation and see if there is any relation between this and the price of license plates. "
   ]
  }
 ],
 "metadata": {
  "kernelspec": {
   "display_name": "Python 3",
   "language": "python",
   "name": "python3"
  },
  "language_info": {
   "codemirror_mode": {
    "name": "ipython",
    "version": 3
   },
   "file_extension": ".py",
   "mimetype": "text/x-python",
   "name": "python",
   "nbconvert_exporter": "python",
   "pygments_lexer": "ipython3",
   "version": "3.8.3"
  }
 },
 "nbformat": 4,
 "nbformat_minor": 4
}
