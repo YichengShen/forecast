{
 "cells": [
  {
   "cell_type": "code",
   "execution_count": 1,
   "metadata": {},
   "outputs": [],
   "source": [
    "# default_exp smoothing"
   ]
  },
  {
   "cell_type": "markdown",
   "metadata": {},
   "source": [
    "# Pset2\n",
    "\n",
    "> Adjusting series, SA, MA, and exponential smoothing forecast."
   ]
  },
  {
   "cell_type": "code",
   "execution_count": 2,
   "metadata": {},
   "outputs": [],
   "source": [
    "#hide\n",
    "from nbdev.showdoc import *"
   ]
  },
  {
   "cell_type": "markdown",
   "metadata": {},
   "source": [
    "Questions:\n",
    "    \n",
    "1.  Adjust the GDP Series for population.  Be careful to match the units in order to obtain a meaningful number.\n",
    "\n",
    "2.  Adjust the GDP for price changes.  Feel free to use any year after 2000 as \"reference\".  Use quarter 3 of that year GDP deflator.\n",
    "\n",
    "3.  Seasonally adjust the series.\n",
    "\n",
    "3. Obtain the closest Moving Average forecast.  You can use RMSE as a measure of performance.  You must evaluate at least two different MA \"lengths\" (i.e. 2-quarter MA and 3-quarter MA, etc.)\n",
    "\n",
    "4. Obtain the closest exponential smoothing forecast.  Use at least two methods. \n",
    "\n",
    "5. Compare the best MA forecast with the best Exponential Smoothing forecast.\n",
    "    "
   ]
  },
  {
   "cell_type": "code",
   "execution_count": 3,
   "metadata": {},
   "outputs": [],
   "source": [
    "import pandas as pd\n",
    "import numpy as np\n",
    "import matplotlib.pyplot as plt\n",
    "from statsmodels.tsa.api import ExponentialSmoothing, SimpleExpSmoothing, Holt\n",
    "from forecast import moving_avg as ma"
   ]
  },
  {
   "cell_type": "markdown",
   "metadata": {},
   "source": [
    "## Load data"
   ]
  },
  {
   "cell_type": "markdown",
   "metadata": {},
   "source": [
    "### NSA GDP and SA GDP\n",
    "\n",
    "Billions of Dollars, Quarterly"
   ]
  },
  {
   "cell_type": "code",
   "execution_count": 4,
   "metadata": {},
   "outputs": [],
   "source": [
    "df = pd.read_excel(\"../data/pset2/Quarterly_GDP.xls\")\n",
    "df.columns = ['DATE', 'GDP_NSA', 'GDP_SA']"
   ]
  },
  {
   "cell_type": "markdown",
   "metadata": {},
   "source": [
    "### Population (B230RC0Q173SBEA)\n",
    "\n",
    "Thousands, Quarterly, Not Seasonally Adjusted"
   ]
  },
  {
   "cell_type": "code",
   "execution_count": 5,
   "metadata": {},
   "outputs": [],
   "source": [
    "df_population = pd.read_excel(\"../data/pset2/Population.xls\", skiprows=range(10))\n",
    "df_population.columns = ['DATE', 'POPULATION']\n",
    "\n",
    "population = []\n",
    "for idx in range(df_population.shape[0]):\n",
    "    year = pd.to_datetime(df_population['DATE'][idx]).year\n",
    "    month = pd.to_datetime(df_population['DATE'][idx]).month\n",
    "    if 2002 <= year <= 2019:\n",
    "        if not (year == 2019 and month > 7):\n",
    "            population.append(df_population['POPULATION'][idx])"
   ]
  },
  {
   "cell_type": "markdown",
   "metadata": {},
   "source": [
    "### GDP deflator (GDPDEF)\n",
    "\n",
    "Gross Domestic Product: Implicit Price Deflator, Index 2012=100, Quarterly, Seasonally Adjusted"
   ]
  },
  {
   "cell_type": "code",
   "execution_count": 6,
   "metadata": {},
   "outputs": [],
   "source": [
    "df_gdpdef = pd.read_excel(\"../data/pset2/GDPDEF.xlsx\", skiprows=range(10))\n",
    "df_gdpdef.columns = ['DATE', 'GDPDEF']\n",
    "\n",
    "gdpdef = []\n",
    "for idx in range(df_gdpdef.shape[0]):\n",
    "    year = pd.to_datetime(df_gdpdef['DATE'][idx]).year\n",
    "    month = pd.to_datetime(df_gdpdef['DATE'][idx]).month\n",
    "    if 2002 <= year <= 2019:\n",
    "        if not (year == 2019 and month > 7):\n",
    "            gdpdef.append(df_gdpdef['GDPDEF'][idx])"
   ]
  },
  {
   "cell_type": "markdown",
   "metadata": {},
   "source": [
    "Combine into a single dataframe"
   ]
  },
  {
   "cell_type": "code",
   "execution_count": 7,
   "metadata": {
    "scrolled": true
   },
   "outputs": [
    {
     "name": "stdout",
     "output_type": "stream",
     "text": [
      "         DATE   GDP_NSA     GDP_SA  POPULATION      DEF\n",
      "0  2002-01-01  3264.061  13397.002      286935   80.533\n",
      "1  2002-04-01  3363.525  13478.152      287574   80.821\n",
      "2  2002-07-01  3401.800  13538.072      288303   81.194\n",
      "3  2002-10-01  3463.678  13559.032      289007   81.654\n",
      "4  2003-01-01  3342.362  13634.253      289609   82.025\n",
      "..        ...       ...        ...         ...      ...\n",
      "66 2018-07-01  4707.274  18732.720      327167  110.767\n",
      "67 2018-10-01  4788.367  18783.548      327602  111.256\n",
      "68 2019-01-01  4611.104  18927.281      327923  111.473\n",
      "69 2019-04-01  4760.028  19021.860      328270  112.188\n",
      "70 2019-07-01  4795.897  19121.112      328730  112.664\n",
      "\n",
      "[71 rows x 5 columns]\n"
     ]
    }
   ],
   "source": [
    "df['POPULATION'] = population\n",
    "df['DEF'] = gdpdef\n",
    "print(df)"
   ]
  },
  {
   "cell_type": "markdown",
   "metadata": {},
   "source": [
    "## Question 1\n",
    "Adjust the GDP Series for population. \n",
    "\n",
    "Find GDP per capita.\n",
    "\n",
    "$$GDP\\ per\\ capita = \\frac{GDP}{population}$$\n",
    "\n",
    "In the data, GDP's unit is billions of dollars. Population's unit is thousands."
   ]
  },
  {
   "cell_type": "code",
   "execution_count": 8,
   "metadata": {},
   "outputs": [
    {
     "name": "stdout",
     "output_type": "stream",
     "text": [
      "NSA and SA GDP per capita:\n",
      "         DATE  GDP_NSA_PER_CAP  GDP_SA_PER_CAP\n",
      "0  2002-01-01     11375.611201    46690.023873\n",
      "1  2002-04-01     11696.206889    46868.465160\n",
      "2  2002-07-01     11799.391612    46957.790935\n",
      "3  2002-10-01     11984.754695    46915.929372\n",
      "4  2003-01-01     11540.946587    47078.139837\n",
      "..        ...              ...             ...\n",
      "66 2018-07-01     14387.985341    57257.363976\n",
      "67 2018-10-01     14616.415651    57336.487567\n",
      "68 2019-01-01     14061.544936    57718.674811\n",
      "69 2019-04-01     14500.344229    57945.776343\n",
      "70 2019-07-01     14589.167402    58166.616981\n",
      "\n",
      "[71 rows x 3 columns]\n"
     ]
    }
   ],
   "source": [
    "df['GDP_NSA_PER_CAP'] = df['GDP_NSA'] * 10**9 / (df['POPULATION']*1000)\n",
    "df['GDP_SA_PER_CAP'] = df['GDP_SA'] * 10**9 / (df['POPULATION']*1000)\n",
    "print(\"NSA and SA GDP per capita:\")\n",
    "print(df[['DATE', 'GDP_NSA_PER_CAP', 'GDP_SA_PER_CAP']])"
   ]
  },
  {
   "cell_type": "markdown",
   "metadata": {},
   "source": [
    "## Question 2\n",
    "\n",
    "Adjust the GDP for price changes. Feel free to use any year after 2000 as \"reference\". Use quarter 3 of that year GDP deflator.\n",
    "\n",
    "The GDP deflator serires use 2012 as the reference (index = 100). However, I changed the reference to the GDP deflator at 2019-07-01. As a result, the original GDP deflator formula needs to be tweaked slightly. The new formula to get the real GDP is shown below.\n",
    "\n",
    "At time t, the real GDP is\n",
    "\n",
    "$$ real\\ GDP_t = nominal\\ GDP_t * \\frac{GDP\\ deflator_{reference}}{GDP\\ deflator_t}$$"
   ]
  },
  {
   "cell_type": "code",
   "execution_count": 9,
   "metadata": {},
   "outputs": [
    {
     "name": "stdout",
     "output_type": "stream",
     "text": [
      "Reference: GDP deflator at 2019-07-01: 112.664\n"
     ]
    }
   ],
   "source": [
    "ref_def = df['DEF'][df['DATE']=='2019-07-01'].iloc[0]\n",
    "print(\"Reference: GDP deflator at 2019-07-01:\", ref_def)"
   ]
  },
  {
   "cell_type": "code",
   "execution_count": 10,
   "metadata": {},
   "outputs": [],
   "source": [
    "per_cap_real_nsa_gdp = []\n",
    "for i, nominal in enumerate(df['GDP_NSA_PER_CAP']):\n",
    "    real = nominal * ref_def / df[\"DEF\"].iloc[i]\n",
    "    per_cap_real_nsa_gdp.append(real)"
   ]
  },
  {
   "cell_type": "code",
   "execution_count": 11,
   "metadata": {},
   "outputs": [],
   "source": [
    "# per_cap_real_sa_gdp = []\n",
    "# for i, nominal in enumerate(df['GDP_SA_PER_CAP']):\n",
    "#     real = nominal * ref_def / df[\"DEF\"].iloc[i]\n",
    "#     per_cap_real_sa_gdp.append(real.iloc[0])"
   ]
  },
  {
   "cell_type": "code",
   "execution_count": 12,
   "metadata": {},
   "outputs": [],
   "source": [
    "df['PER_CAP_REAL_NSA_GDP'] = per_cap_real_nsa_gdp"
   ]
  },
  {
   "cell_type": "code",
   "execution_count": 13,
   "metadata": {},
   "outputs": [
    {
     "name": "stdout",
     "output_type": "stream",
     "text": [
      "Per-capita Real NSA GDP is shown in the second column.\n",
      "         DATE  GDP_NSA_PER_CAP  PER_CAP_REAL_NSA_GDP\n",
      "0  2002-01-01     11375.611201          15914.244600\n",
      "1  2002-04-01     11696.206889          16304.443808\n",
      "2  2002-07-01     11799.391612          16372.720356\n",
      "3  2002-10-01     11984.754695          16536.243208\n",
      "4  2003-01-01     11540.946587          15851.864751\n",
      "..        ...              ...                   ...\n",
      "66 2018-07-01     14387.985341          14634.394544\n",
      "67 2018-10-01     14616.415651          14801.393659\n",
      "68 2019-01-01     14061.544936          14211.781316\n",
      "69 2019-04-01     14500.344229          14561.867421\n",
      "70 2019-07-01     14589.167402          14589.167402\n",
      "\n",
      "[71 rows x 3 columns]\n"
     ]
    }
   ],
   "source": [
    "print(\"Per-capita Real NSA GDP is shown in the second column.\")\n",
    "print(df[['DATE', 'GDP_NSA_PER_CAP', 'PER_CAP_REAL_NSA_GDP']])"
   ]
  },
  {
   "cell_type": "markdown",
   "metadata": {},
   "source": [
    "## Question 3\n",
    "\n",
    "Seasonally adjust the series."
   ]
  },
  {
   "cell_type": "markdown",
   "metadata": {},
   "source": [
    "1. Find 4-quarter centered moving average (CMA).\n",
    "\n",
    "    At time $i$, the 4-quarter CMA is\n",
    "    $$CMA_i = (GDP_{i-2} + GDP_{i-1} + GDP_{i} + GDP_{i+1})/4$$\n",
    "\n",
    "2. Find seasonal ratio.\n",
    "    \n",
    "    At time $i$,\n",
    "    $$ seasonal\\ ratio_i = \\frac{GDP_i}{CMA_i} $$"
   ]
  },
  {
   "cell_type": "code",
   "execution_count": 14,
   "metadata": {},
   "outputs": [],
   "source": [
    "seasonal_ratios = {\n",
    "    \"quarter_1\": [],\n",
    "    \"quarter_2\": [],\n",
    "    \"quarter_3\": [],\n",
    "    \"quarter_4\": [],\n",
    "}\n",
    "for i, value in enumerate(df['PER_CAP_REAL_NSA_GDP']):\n",
    "    # Skip the first two rows because of CMA\n",
    "    if i > 1:\n",
    "        cma = np.average(df['PER_CAP_REAL_NSA_GDP'].iloc[i-2:i+2])\n",
    "        ratio = value / cma\n",
    "        quarter = f\"quarter_{i % 4 + 1}\"\n",
    "        seasonal_ratios[quarter].append(ratio)"
   ]
  },
  {
   "cell_type": "markdown",
   "metadata": {},
   "source": [
    "3. Find seasonal factor.\n",
    "\n",
    "    For quarter $i$,\n",
    "    $$ seasonal\\ factor_i = average(all\\ seasonal\\ ratio_i) $$\n",
    "    \n",
    "    E.g., the seasonal factor of Q1 is the average of all Q1 seasonal ratios."
   ]
  },
  {
   "cell_type": "code",
   "execution_count": 15,
   "metadata": {},
   "outputs": [
    {
     "name": "stdout",
     "output_type": "stream",
     "text": [
      "Seasonal Factors:\n",
      "quarter_1: 0.9775677108996668\n",
      "quarter_2: 0.9983274420712943\n",
      "quarter_3: 1.0034786915160803\n",
      "quarter_4: 1.0176359751812398\n"
     ]
    }
   ],
   "source": [
    "seasonal_factors = {\n",
    "    \"quarter_1\": np.average(seasonal_ratios['quarter_1']),\n",
    "    \"quarter_2\": np.average(seasonal_ratios['quarter_2']),\n",
    "    \"quarter_3\": np.average(seasonal_ratios['quarter_3']),\n",
    "    \"quarter_4\": np.average(seasonal_ratios['quarter_4']),\n",
    "}\n",
    "\n",
    "print(\"Seasonal Factors:\")\n",
    "for k, v in seasonal_factors.items():\n",
    "    print(f\"{k}: {v}\")"
   ]
  },
  {
   "cell_type": "markdown",
   "metadata": {},
   "source": [
    "4. Adjust the original series using the seasonal factor.\n",
    "\n",
    "    At time $i$,\n",
    "    \n",
    "    $$Seasonally\\ Adjusted\\ GDP_i = \\frac{GDP_i}{seasonal\\ factor}$$"
   ]
  },
  {
   "cell_type": "code",
   "execution_count": 16,
   "metadata": {},
   "outputs": [],
   "source": [
    "adjusted = []\n",
    "for i, value in enumerate(df['PER_CAP_REAL_NSA_GDP']):\n",
    "    quarter = f\"quarter_{i % 4 + 1}\"\n",
    "    adjusted.append(value/seasonal_factors[quarter])"
   ]
  },
  {
   "cell_type": "code",
   "execution_count": 17,
   "metadata": {},
   "outputs": [
    {
     "name": "stdout",
     "output_type": "stream",
     "text": [
      "Per-capita real SA GDP obtained using centered moving average method is shown in the second column.\n",
      "    PER_CAP_REAL_NSA_GDP  PER_CAP_REAL_SA_GDP_MA\n",
      "0           15914.244600            16279.429468\n",
      "1           16304.443808            16331.759622\n",
      "2           16372.720356            16315.962157\n",
      "3           16536.243208            16249.664528\n",
      "4           15851.864751            16215.618186\n",
      "..                   ...                     ...\n",
      "66          14634.394544            14583.662481\n",
      "67          14801.393659            14544.880507\n",
      "68          14211.781316            14537.899685\n",
      "69          14561.867421            14586.263792\n",
      "70          14589.167402            14538.592125\n",
      "\n",
      "[71 rows x 2 columns]\n"
     ]
    }
   ],
   "source": [
    "df['PER_CAP_REAL_SA_GDP_MA'] = adjusted\n",
    "print(\"Per-capita real SA GDP obtained using centered moving average method is shown in the second column.\")\n",
    "print(df[['PER_CAP_REAL_NSA_GDP', 'PER_CAP_REAL_SA_GDP_MA']])"
   ]
  },
  {
   "cell_type": "markdown",
   "metadata": {},
   "source": [
    "## Question 4\n",
    "\n",
    "Obtain the closest Moving Average forecast. You can use RMSE as a measure of performance. You must evaluate at least two different MA \"lengths\" (i.e. 2-quarter MA and 3-quarter MA, etc.)"
   ]
  },
  {
   "cell_type": "code",
   "execution_count": 18,
   "metadata": {},
   "outputs": [],
   "source": [
    "ma_2qt = ma.moving_avg(n_month=2, df=df, df_column=df['PER_CAP_REAL_SA_GDP_MA'])\n",
    "ma_3qt = ma.moving_avg(n_month=3, df=df, df_column=df['PER_CAP_REAL_SA_GDP_MA'])\n",
    "ma_4qt = ma.moving_avg(n_month=4, df=df, df_column=df['PER_CAP_REAL_SA_GDP_MA'])"
   ]
  },
  {
   "cell_type": "code",
   "execution_count": 19,
   "metadata": {},
   "outputs": [
    {
     "name": "stdout",
     "output_type": "stream",
     "text": [
      "Moving Average forecasts:\n",
      "          MA_2qt        MA_3qt        MA_4qt\n",
      "0       0.000000      0.000000      0.000000\n",
      "1       0.000000      0.000000      0.000000\n",
      "2   16305.594545      0.000000      0.000000\n",
      "3   16323.860889  16309.050416      0.000000\n",
      "4   16282.813342  16299.128769  16294.203944\n",
      "..           ...           ...           ...\n",
      "66  14536.995785  14563.392503  14577.465546\n",
      "67  14576.123832  14552.551350  14568.459998\n",
      "68  14564.271494  14565.709390  14550.633640\n",
      "69  14541.390096  14555.480891  14558.756964\n",
      "70  14562.081738  14556.347995  14563.176616\n",
      "\n",
      "[71 rows x 3 columns]\n"
     ]
    }
   ],
   "source": [
    "df['MA_2qt'] = ma_2qt\n",
    "df['MA_3qt'] = ma_3qt\n",
    "df['MA_4qt'] = ma_4qt\n",
    "print(\"Moving Average forecasts:\")\n",
    "print(df[['MA_2qt', 'MA_3qt', 'MA_4qt']])"
   ]
  },
  {
   "cell_type": "markdown",
   "metadata": {},
   "source": [
    "Find RMSE for each MA forecast."
   ]
  },
  {
   "cell_type": "code",
   "execution_count": 20,
   "metadata": {},
   "outputs": [
    {
     "name": "stdout",
     "output_type": "stream",
     "text": [
      "2qt MA RMSE:  135.91701499752799\n",
      "3qt MA RMSE:  160.24662452298273\n",
      "4qt MA RMSE:  181.71912500070903\n"
     ]
    }
   ],
   "source": [
    "print(\"2qt MA RMSE: \", ma.rmse(n_month=2, predicted=df['MA_2qt'], target=df['PER_CAP_REAL_SA_GDP_MA']))\n",
    "print(\"3qt MA RMSE: \", ma.rmse(n_month=3, predicted=df['MA_3qt'], target=df['PER_CAP_REAL_SA_GDP_MA']))\n",
    "print(\"4qt MA RMSE: \", ma.rmse(n_month=4, predicted=df['MA_4qt'], target=df['PER_CAP_REAL_SA_GDP_MA']))"
   ]
  },
  {
   "cell_type": "markdown",
   "metadata": {},
   "source": [
    "According to the RMSE results shown above, amoung 2-quarter, 3-quarter, and 4-quarter MAs, 2-quarter MA is the closest Moving Average forecast."
   ]
  },
  {
   "cell_type": "markdown",
   "metadata": {},
   "source": [
    "## Question 5\n",
    "\n",
    "Obtain the closest exponential smoothing forecast. Use at least two methods.\n",
    "\n",
    "Reference: https://www.statsmodels.org/stable/examples/notebooks/generated/exponential_smoothing.html"
   ]
  },
  {
   "cell_type": "markdown",
   "metadata": {},
   "source": [
    "### Method 1: Simple Exponential Smoothing\n",
    "The statsmodels package automatically finds the optimized $\\alpha$. "
   ]
  },
  {
   "cell_type": "code",
   "execution_count": 21,
   "metadata": {},
   "outputs": [],
   "source": [
    "fit_simple = SimpleExpSmoothing(df['PER_CAP_REAL_SA_GDP_MA'], initialization_method=\"estimated\").fit()\n",
    "pred_simple = fit_simple.forecast(5)\n",
    "# print(\"Alpha:\", fit_simple.model.params['smoothing_level'])\n",
    "# print(fit_simple.fittedvalues)"
   ]
  },
  {
   "cell_type": "markdown",
   "metadata": {},
   "source": [
    "### Method 2-1: Holt's linear trend"
   ]
  },
  {
   "cell_type": "code",
   "execution_count": 22,
   "metadata": {
    "scrolled": true
   },
   "outputs": [],
   "source": [
    "fit_holt_1 = Holt(df['PER_CAP_REAL_SA_GDP_MA'], initialization_method=\"estimated\").fit()\n",
    "pred_holt_1 = fit_holt_1.forecast(5)"
   ]
  },
  {
   "cell_type": "markdown",
   "metadata": {},
   "source": [
    "### Method 2-2: Holt's exponential trend"
   ]
  },
  {
   "cell_type": "code",
   "execution_count": 23,
   "metadata": {},
   "outputs": [],
   "source": [
    "fit_holt_2 = Holt(df['PER_CAP_REAL_SA_GDP_MA'], exponential=True, initialization_method=\"estimated\").fit()\n",
    "pred_holt_2 = fit_holt_2.forecast(5)"
   ]
  },
  {
   "cell_type": "markdown",
   "metadata": {},
   "source": [
    "### Method 2-3: Holt's additive damped trend"
   ]
  },
  {
   "cell_type": "code",
   "execution_count": 24,
   "metadata": {},
   "outputs": [],
   "source": [
    "fit_holt_3 = Holt(df['PER_CAP_REAL_SA_GDP_MA'], damped_trend=True, initialization_method=\"estimated\").fit()\n",
    "pred_holt_3 = fit_holt_3.forecast(5)"
   ]
  },
  {
   "cell_type": "markdown",
   "metadata": {},
   "source": [
    "Plot"
   ]
  },
  {
   "cell_type": "code",
   "execution_count": 25,
   "metadata": {},
   "outputs": [],
   "source": [
    "import datetime\n",
    "dates_pred = (pd.date_range(pd.to_datetime('2019-10-01'), \n",
    "                   pd.to_datetime('2021-01-01') + pd.offsets.QuarterBegin(1), freq='Q')\n",
    "      .strftime('%Y-%m-%d')\n",
    "      .tolist())\n",
    "dates_pred = [datetime.datetime.strptime(d, '%Y-%m-%d') for d in dates_pred]"
   ]
  },
  {
   "cell_type": "code",
   "execution_count": 26,
   "metadata": {},
   "outputs": [
    {
     "data": {
      "image/png": "[encoded data removed]",
      "text/plain": [
       "<Figure size 432x288 with 1 Axes>"
      ]
     },
     "metadata": {
      "needs_background": "light"
     },
     "output_type": "display_data"
    }
   ],
   "source": [
    "plt.figure()\n",
    "plt.plot(df['DATE'], df['PER_CAP_REAL_SA_GDP_MA'], color='black', label='target')\n",
    "plt.plot(df['DATE'], fit_simple.fittedvalues, color='blue', label='SimpleExp')\n",
    "line1, = plt.plot(dates_pred, pred_simple, linestyle='dashed', color='blue')\n",
    "plt.plot(df['DATE'], fit_holt_1.fittedvalues, color='red', label=\"HoltLinear\")\n",
    "line2, = plt.plot(dates_pred, pred_holt_1, linestyle='dashed', color='red')\n",
    "plt.plot(df['DATE'], fit_holt_2.fittedvalues, color='orange', label=\"HoltExp\")\n",
    "line3, = plt.plot(dates_pred, pred_holt_2, linestyle='dashed', color='orange')\n",
    "plt.plot(df['DATE'], fit_holt_3.fittedvalues, color='purple', label=\"HoltAddDamped\")\n",
    "line4, = plt.plot(dates_pred, pred_holt_3, linestyle='dashed', color='purple')\n",
    "plt.legend(loc=\"upper right\")\n",
    "plt.show()"
   ]
  },
  {
   "cell_type": "markdown",
   "metadata": {},
   "source": [
    "In the plot above, the dashed curves at the end are the predicted values for 5 periods.\n",
    "\n",
    "The curves are quite close to each other, so it's hard to tell the difference visually, but we can calculate RMSE to compare their performance."
   ]
  },
  {
   "cell_type": "code",
   "execution_count": 27,
   "metadata": {},
   "outputs": [
    {
     "name": "stdout",
     "output_type": "stream",
     "text": [
      "Simple Exponential Smoothing RMSE:  108.53274169886627\n",
      "Holt's linear trend RMSE:  107.27829402537911\n",
      "Holt's exponential trend RMSE:  106.69761512462439\n",
      "Holt's additive damped trend RMSE:  106.82197689012479\n"
     ]
    }
   ],
   "source": [
    "print(\"Simple Exponential Smoothing RMSE: \", ma.rmse(0, predicted=fit_simple.fittedvalues, target=df['PER_CAP_REAL_SA_GDP_MA']))\n",
    "print(\"Holt's linear trend RMSE: \", ma.rmse(0, predicted=fit_holt_1.fittedvalues, target=df['PER_CAP_REAL_SA_GDP_MA']))\n",
    "print(\"Holt's exponential trend RMSE: \", ma.rmse(0, predicted=fit_holt_2.fittedvalues, target=df['PER_CAP_REAL_SA_GDP_MA']))\n",
    "print(\"Holt's additive damped trend RMSE: \", ma.rmse(0, predicted=fit_holt_3.fittedvalues, target=df['PER_CAP_REAL_SA_GDP_MA']))"
   ]
  },
  {
   "cell_type": "markdown",
   "metadata": {},
   "source": [
    "Based on the RMSE, Holt's exponential trend (Method 2-2) seems to have the best performance."
   ]
  },
  {
   "cell_type": "markdown",
   "metadata": {},
   "source": [
    "## Question 6\n",
    "\n",
    "Compare the best MA forecast with the best Exponential Smoothing forecast."
   ]
  },
  {
   "cell_type": "code",
   "execution_count": 28,
   "metadata": {},
   "outputs": [
    {
     "name": "stdout",
     "output_type": "stream",
     "text": [
      "2qt MA RMSE:  135.91701499752799\n",
      "Holt's exponential trend RMSE:  106.69761512462439\n"
     ]
    }
   ],
   "source": [
    "print(\"2qt MA RMSE: \", ma.rmse(n_month=2, predicted=df['MA_2qt'], target=df['PER_CAP_REAL_SA_GDP_MA']))\n",
    "print(\"Holt's exponential trend RMSE: \", ma.rmse(0, predicted=fit_holt_2.fittedvalues, target=df['PER_CAP_REAL_SA_GDP_MA']))"
   ]
  },
  {
   "cell_type": "code",
   "execution_count": 29,
   "metadata": {},
   "outputs": [
    {
     "data": {
      "image/png": "[encoded data removed]",
      "text/plain": [
       "<Figure size 432x288 with 1 Axes>"
      ]
     },
     "metadata": {
      "needs_background": "light"
     },
     "output_type": "display_data"
    }
   ],
   "source": [
    "plt.figure()\n",
    "plt.plot(df['PER_CAP_REAL_SA_GDP_MA'], color='black', label='target')\n",
    "plt.plot(df['MA_2qt'][2:], label='2qt MA')\n",
    "plt.plot(fit_holt_2.fittedvalues, label=\"Holt's exponential trend\")\n",
    "plt.legend(loc=\"upper right\")\n",
    "plt.show()"
   ]
  },
  {
   "cell_type": "markdown",
   "metadata": {},
   "source": [
    "The best Exponential Smoothing forecast (Holt's method) has a lower RMSE than the best MA forecast (2-quarter MA)."
   ]
  },
  {
   "cell_type": "code",
   "execution_count": null,
   "metadata": {},
   "outputs": [],
   "source": []
  }
 ],
 "metadata": {
  "kernelspec": {
   "display_name": "Python 3",
   "language": "python",
   "name": "python3"
  },
  "language_info": {
   "codemirror_mode": {
    "name": "ipython",
    "version": 3
   },
   "file_extension": ".py",
   "mimetype": "text/x-python",
   "name": "python",
   "nbconvert_exporter": "python",
   "pygments_lexer": "ipython3",
   "version": "3.8.3"
  }
 },
 "nbformat": 4,
 "nbformat_minor": 4
}
